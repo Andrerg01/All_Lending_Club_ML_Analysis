{
 "cells": [
  {
   "cell_type": "markdown",
   "metadata": {},
   "source": [
    "# Exploratory Data Analysis"
   ]
  },
  {
   "cell_type": "markdown",
   "metadata": {},
   "source": [
    "## Introduction\n",
    "\n",
    "This notebook is dependent on the execution of `scripts/01 - csv_to_sqlite.py`"
   ]
  },
  {
   "cell_type": "markdown",
   "metadata": {},
   "source": [
    "## Imports and Definitions"
   ]
  },
  {
   "cell_type": "code",
   "execution_count": null,
   "metadata": {},
   "outputs": [],
   "source": [
    "import pandas as pd\n",
    "import sqlite3\n",
    "import numpy as np\n",
    "import datetime\n",
    "import seaborn as sns\n",
    "import matplotlib.pyplot as plt\n",
    "from matplotlib.ticker import MaxNLocator\n",
    "import matplotlib\n",
    "import yaml\n",
    "import os\n",
    "\n",
    "print(\"Defining Classes\")\n",
    "\n",
    "class Logger:\n",
    "    def __init__(self, config):\n",
    "        self.config = config\n",
    "        self.log_dir = config['logging']['out_dir']\n",
    "        self.tag = config['base']['tag']\n",
    "        self.file_path = os.path.join('outputs', self.tag, self.log_dir, 'log.txt')\n",
    "        self.verbose = config['logging']['verbose']\n",
    "        \n",
    "    def log(self, message):\n",
    "        current_datetime = datetime.datetime.now()\n",
    "        datetime_string = current_datetime.strftime(\"%Y-%m-%d %H:%M:%S\")\n",
    "        log_message = f\"{datetime_string}: {message}\"\n",
    "        if self.verbose:\n",
    "            print(log_message)\n",
    "        with open(self.file_path, \"a\") as f:\n",
    "            f.write(f'{log_message}\\n')\n",
    "\n",
    "print(\"Defining Functions\")\n",
    "\n",
    "def loan_status_to_int(status):\n",
    "    if status == 'Charged Off':\n",
    "        return 0\n",
    "    if status == 'Fully Paid':\n",
    "        return 1\n",
    "    else:\n",
    "        return -1\n",
    "\n",
    "def bestbandwidth(data):\n",
    "    return 1.06*np.std(data)*len(data)**(-1/5)\n",
    "\n",
    "def create_directory_if_not_exists(directory):\n",
    "    if not os.path.exists(directory):\n",
    "        os.makedirs(directory)\n",
    "        return f\"Created directory: {directory}\"\n",
    "    else:\n",
    "        return f\"Directory already exists: {directory}\"\n",
    "\n",
    "def transform_type(sqlite_type):\n",
    "    if sqlite_type == 'INTEGER':\n",
    "        return 'int'\n",
    "    if sqlite_type == 'REAL':\n",
    "        return 'float'\n",
    "    if sqlite_type == 'TEXT':\n",
    "        return 'object'\n",
    "\n",
    "print(\"Reading Config File\")\n",
    "\n",
    "config_file_path = '../config/config.yml'\n",
    "\n",
    "root_path = '..'\n",
    "\n",
    "print(f\"Reading Config File {config_file_path}\")\n",
    "with open(config_file_path, 'r') as f:\n",
    "    config = yaml.safe_load(f)\n",
    "\n",
    "print(\"Defining Variables and Creating Directories\")\n",
    "\n",
    "sqlite_file = config['data']['output_sqlite']\n",
    "\n",
    "tag = config['base']['tag']\n",
    "\n",
    "git_repo = config['base']['git_repo']\n",
    "\n",
    "fontsize = config['plotting']['fontsize']\n",
    "figsize_x = config['plotting']['figure_xsize']\n",
    "figsize_y = config['plotting']['figure_ysize']\n",
    "\n",
    "out_dir_figures = f\"outputs/{tag}/figures\"\n",
    "\n",
    "out_dir_stats = f\"outputs/{tag}/stats\"\n",
    "\n",
    "out_dir_log = f\"outputs/{tag}/log\"\n",
    "\n",
    "sqlite_file = os.path.join(f'{root_path}/outputs/{tag}/data/{sqlite_file}')\n",
    "out_dir_figures = os.path.join(root_path, out_dir_figures)\n",
    "out_dir_stats = os.path.join(root_path, out_dir_stats)\n",
    "out_dir_log = os.path.join(root_path, out_dir_log)\n",
    "\n",
    "columns_of_interest = config['base']['columns_of_interest']\n",
    "\n",
    "print(\"Done with initial setup\")"
   ]
  },
  {
   "cell_type": "markdown",
   "metadata": {},
   "source": [
    "## Loading and Cleaning Data and Defining Columns"
   ]
  },
  {
   "cell_type": "code",
   "execution_count": null,
   "metadata": {},
   "outputs": [],
   "source": [
    "print(\"Loading Data\")\n",
    "# Defining the connection to the database\n",
    "conn = sqlite3.connect(sqlite_file)\n",
    "\n",
    "# Loading descriptions into dataframe\n",
    "description_fetch_query = f\"\"\"SELECT *\n",
    "                    FROM descriptions\n",
    "                    \"\"\"\n",
    "descriptions = pd.read_sql_query(description_fetch_query, conn, index_col = 'name')\n",
    "\n",
    "column_types = {idx:transform_type(row['data_type']) for idx, row in descriptions.iterrows() if row['location'] == 'loans_data' and idx in columns_of_interest}\n",
    "\n",
    "# Loading data into dataframe\n",
    "data_fetch_query = f\"\"\"SELECT {', '.join(columns_of_interest)} \n",
    "                       FROM loans_data\n",
    "                       ORDER BY RANDOM()\"\"\"\n",
    "loans_data = pd.read_sql_query(data_fetch_query, conn, index_col='id', dtype=column_types)\n",
    "\n",
    "# Closing connection\n",
    "conn.close()\n",
    "\n",
    "print(\"Filtering known bad columns\")\n",
    "\n",
    "loans_data = loans_data[loans_data['issue_d_unix'] != 0]\n",
    "\n",
    "print(\"Creating columns\")\n",
    "\n",
    "loans_data['issue_d'] = pd.to_datetime(loans_data['issue_d_unix'], unit='s')\n",
    "descriptions = pd.concat([descriptions, pd.DataFrame({\n",
    "    'name':['issue_d'],\n",
    "    'full_name': ['Issue Date'],\n",
    "    'type': ['Column'],\n",
    "    'location': ['loans_data'],\n",
    "    'description': ['Date the loan was issued'],\n",
    "    'data_type': ['TEXT']\n",
    "}).set_index('name')])\n",
    "\n",
    "loans_data['issue_month'] = loans_data['issue_d'].apply(lambda x: x.month)\n",
    "descriptions = pd.concat([descriptions, pd.DataFrame({\n",
    "    'name':['issue_month'],\n",
    "    'full_name': ['Issue Month'],\n",
    "    'type': ['Column'],\n",
    "    'location': ['loans_data'],\n",
    "    'description': ['Month of the year the loan was issued'],\n",
    "    'data_type': ['INT']\n",
    "}).set_index('name')])\n",
    "\n",
    "loans_data['issue_year'] = loans_data['issue_d'].apply(lambda x: x.year)\n",
    "descriptions = pd.concat([descriptions, pd.DataFrame({\n",
    "    'name':['issue_year'],\n",
    "    'full_name': ['Issue Year'],\n",
    "    'type': ['Column'],\n",
    "    'location': ['loans_data'],\n",
    "    'description': ['Year the loan was issued'],\n",
    "    'data_type': ['INT']\n",
    "}).set_index('name')])\n",
    "\n",
    "print(\"Limiting dataset to two types of Loan Status only\")\n",
    "\n",
    "loans_data = loans_data[(loans_data['loan_status'] == 'Charged Off') | (loans_data['loan_status'] == 'Fully Paid')]\n",
    "\n",
    "print(\"Done with Loading and Cleaning Data and Defining Columns\")"
   ]
  },
  {
   "cell_type": "markdown",
   "metadata": {},
   "source": [
    "## Exploratory Data Analysis"
   ]
  },
  {
   "cell_type": "markdown",
   "metadata": {},
   "source": [
    "### Basic Statistics for All Columns"
   ]
  },
  {
   "cell_type": "code",
   "execution_count": null,
   "metadata": {},
   "outputs": [],
   "source": [
    "print(\"Computing Numerical Statistics for All Columns\")\n",
    "# Calculating descriptive statistics for the numerical columns\n",
    "numerical_stats = loans_data.describe().transpose()\n",
    "\n",
    "# Adding description of each row\n",
    "numerical_stats['description'] = [descriptions.loc[name]['description'] for name in numerical_stats.index]\n",
    "\n",
    "# Displaying the descriptive statistics\n",
    "numerical_stats.to_csv(f\"{out_dir_stats}/Numerical_Statistics.csv\")\n",
    "\n",
    "print(\"Done With Basic Statistics for All Columns\")\n",
    "\n",
    "numerical_stats"
   ]
  },
  {
   "cell_type": "markdown",
   "metadata": {},
   "source": [
    "### Plotting Loan Status Distribution"
   ]
  },
  {
   "cell_type": "code",
   "execution_count": null,
   "metadata": {},
   "outputs": [],
   "source": [
    "print(\"Plotting Loan_Status_Distribution\")\n",
    "fig, ax = plt.subplots(figsize=[10, 10/1.62])\n",
    "# Define the order of the grades and sub-grades\n",
    "loan_status_order = sorted(loans_data['loan_status'].unique())[::-1]\n",
    "# Plot the counts of each grade with hue set to 'loan_status'\n",
    "sns.countplot(data=loans_data, x='loan_status', ax=ax, order=loan_status_order)\n",
    "ax.set_xlabel(descriptions.loc['loan_status']['full_name'], fontsize=fontsize)\n",
    "ax.set_ylabel('Counts', fontsize=fontsize)\n",
    "ax.set_title('Loan Status Distribution', fontsize=fontsize)\n",
    "fig.tight_layout()\n",
    "\n",
    "fig.savefig(f'{out_dir_figures}/01-Loan_Status_Distribution.png')"
   ]
  },
  {
   "cell_type": "markdown",
   "metadata": {},
   "source": [
    "### Plotting Correlation Matrix"
   ]
  },
  {
   "cell_type": "code",
   "execution_count": null,
   "metadata": {},
   "outputs": [],
   "source": [
    "print(\"Plotting Correlation_Matrix\")\n",
    "# Filter the DataFrame to include only numerical columns\n",
    "numerical_data = loans_data.select_dtypes(include=['int64', 'float64'])\n",
    "# Compute the correlation matrix\n",
    "correlation_matrix = numerical_data.corr()\n",
    "# Get the full names for each column\n",
    "full_names = [descriptions.loc[col]['full_name'] for col in numerical_data.columns]\n",
    "# Set up the matplotlib figure\n",
    "fig, ax = plt.subplots(figsize=(len(numerical_data.columns)*1, len(numerical_data.columns)*1))\n",
    "# Draw the heatmap with the axis object\n",
    "sns.heatmap(correlation_matrix, annot=True, fmt=\".2f\", cmap='coolwarm', square=True, linewidths=.5, ax=ax)\n",
    "# Set the tick labels as the full names\n",
    "ax.set_xticklabels(full_names, rotation=45, ha=\"right\")\n",
    "ax.set_yticklabels(full_names, rotation=0)\n",
    "ax.set_title(\"Correlation Matrix\", fontsize=fontsize)\n",
    "\n",
    "fig.tight_layout()\n",
    "\n",
    "fig.savefig(f'{out_dir_figures}/02-Correlation_Matrix.png')"
   ]
  },
  {
   "cell_type": "markdown",
   "metadata": {},
   "source": [
    "### Plotting Distribution of Installments By Loan Status"
   ]
  },
  {
   "cell_type": "code",
   "execution_count": null,
   "metadata": {},
   "outputs": [],
   "source": [
    "print(\"Plotting Distribution_of_Installments_By_Loan_Status\")\n",
    "loan_status_values = loans_data['loan_status'].unique()\n",
    "fig, ax = plt.subplots(figsize=[10, 10/1.62])\n",
    "best_bw_installment = bestbandwidth(loans_data['installment'])\n",
    "nBins_installment = int((loans_data['installment'].max() - loans_data['installment'].min())/best_bw_installment)\n",
    "bins_installment = np.linspace(loans_data['installment'].min(), loans_data['installment'].max(), nBins_installment)\n",
    "for loan_status in loan_status_values:\n",
    "    mask = loans_data['loan_status'] == loan_status\n",
    "    sns.histplot(loans_data[mask]['installment'], label=loan_status, ax=ax, element=\"step\", bins=bins_installment, kde=False, alpha=0.5, edgecolor='b')\n",
    "ax.set_xlabel(descriptions.loc['installment']['full_name'], fontsize=fontsize)\n",
    "ax.set_ylabel('Counts', fontsize=fontsize)\n",
    "ax.legend()\n",
    "ax.set_title(\"Distribution of Installments By Loan Status\", fontsize=fontsize)\n",
    "\n",
    "fig.tight_layout()\n",
    "\n",
    "fig.savefig(f'{out_dir_figures}/03-Distribution_of_Installments_By_Loan_Status.png')"
   ]
  },
  {
   "cell_type": "markdown",
   "metadata": {},
   "source": [
    "### Plotting Distribution of Loan_Amount By Loan Status"
   ]
  },
  {
   "cell_type": "code",
   "execution_count": null,
   "metadata": {},
   "outputs": [],
   "source": [
    "print(\"Plotting Distribution_of_Loan_Amount_By_Loan_Status\")\n",
    "fig, ax = plt.subplots(figsize=[10, 10/1.62])\n",
    "\n",
    "best_bw_loan_amnt = bestbandwidth(loans_data['loan_amnt'])\n",
    "nBins_loan_amnt = int((loans_data['loan_amnt'].max() - loans_data['loan_amnt'].min())/best_bw_loan_amnt)\n",
    "bins_loan_amnt = np.linspace(loans_data['loan_amnt'].min(), loans_data['loan_amnt'].max(), nBins_loan_amnt)\n",
    "for loan_status in loan_status_values:\n",
    "    mask = loans_data['loan_status'] == loan_status\n",
    "    sns.histplot(loans_data[mask]['loan_amnt'], label=loan_status, ax=ax, element=\"step\", bins=bins_loan_amnt, kde=False, alpha=0.5)\n",
    "ax.set_xlabel(descriptions.loc['loan_amnt']['full_name'], fontsize=fontsize)\n",
    "ax.set_ylabel('Counts', fontsize=fontsize)\n",
    "ax.set_title(\"Distribution of Loan Amount by Loan Status\", fontsize=fontsize)\n",
    "ax.legend()\n",
    "\n",
    "fig.tight_layout()\n",
    "\n",
    "fig.savefig(f'{out_dir_figures}/04-Distribution_of_Loan_Amount_By_Loan_Status.png')\n"
   ]
  },
  {
   "cell_type": "markdown",
   "metadata": {},
   "source": [
    "### Plotting Distribution of Interest Rate By Loan Status"
   ]
  },
  {
   "cell_type": "code",
   "execution_count": null,
   "metadata": {},
   "outputs": [],
   "source": [
    "print(\"Plotting Distribution_of_Interest_Rate_By_Loan_Status\")\n",
    "fig, ax = plt.subplots(figsize=[10, 10/1.62])\n",
    "\n",
    "best_bw_int_rate = bestbandwidth(loans_data['int_rate'])\n",
    "nBins_int_rate = int((loans_data['int_rate'].max() - loans_data['int_rate'].min())/best_bw_int_rate)\n",
    "bins_int_rate = np.linspace(loans_data['int_rate'].min(), loans_data['int_rate'].max(), nBins_int_rate)\n",
    "for loan_status in loan_status_values:\n",
    "    mask = loans_data['loan_status'] == loan_status\n",
    "    sns.histplot(loans_data[mask]['int_rate'], label=loan_status, ax=ax, element=\"step\", bins=bins_int_rate, kde=False, alpha=0.5)\n",
    "ax.set_xlabel(descriptions.loc['int_rate']['full_name'], fontsize=fontsize)\n",
    "ax.set_ylabel('Counts', fontsize=fontsize)\n",
    "ax.legend()\n",
    "ax.set_title(\"Distribution of Interest Rate by Loan Status\", fontsize=fontsize)\n",
    "fig.tight_layout()\n",
    "\n",
    "fig.savefig(f'{out_dir_figures}/05-Distribution_of_Interest_Rate_By_Loan_Status.png')"
   ]
  },
  {
   "cell_type": "markdown",
   "metadata": {},
   "source": [
    "### Plotting Distribution of Annual Income By Loan Status"
   ]
  },
  {
   "cell_type": "code",
   "execution_count": null,
   "metadata": {},
   "outputs": [],
   "source": [
    "print(\"Plotting Distribution_of_Annual_Income_By_Loan_Status\")\n",
    "fig, ax = plt.subplots(figsize=[10, 10/1.62])\n",
    "\n",
    "best_bw_annual_inc = bestbandwidth(loans_data['annual_inc'])\n",
    "nBins_annual_inc = int((loans_data['annual_inc'].max() - loans_data['annual_inc'].min())/best_bw_annual_inc)\n",
    "bins_annual_inc = np.linspace(loans_data['annual_inc'].min(), loans_data['annual_inc'].max(), nBins_annual_inc)\n",
    "for loan_status in loan_status_values:\n",
    "    mask = loans_data['loan_status'] == loan_status\n",
    "    sns.histplot(loans_data[mask]['annual_inc'], label=loan_status, ax=ax, element=\"step\", bins=bins_annual_inc, kde=False, alpha=0.5)\n",
    "ax.set_xlabel(descriptions.loc['annual_inc']['full_name'], fontsize=fontsize)\n",
    "ax.set_ylabel('Counts', fontsize=fontsize)\n",
    "ax.legend()\n",
    "ax.set_title(\"Distribution of Annual Income by Loan Status\", fontsize=fontsize)\n",
    "fig.tight_layout()\n",
    "\n",
    "fig.savefig(f'{out_dir_figures}/06-Distribution_of_Annual_Income_By_Loan_Status.png')\n"
   ]
  },
  {
   "cell_type": "markdown",
   "metadata": {},
   "source": [
    "### Plotting Violin of Installments By Loan Status"
   ]
  },
  {
   "cell_type": "code",
   "execution_count": null,
   "metadata": {},
   "outputs": [],
   "source": [
    "print(\"Plotting Violin_of_Installments_By_Loan_Status\")\n",
    "fig, ax = plt.subplots(figsize=[10, 10/1.62])\n",
    "\n",
    "# Violin plot for 'installment'\n",
    "sns.violinplot(x='loan_status', y='installment', hue='loan_status', data=loans_data, ax=ax)\n",
    "ax.set_title('Installment by Loan Status', fontsize=fontsize)\n",
    "ax.set_xlabel(descriptions.loc['loan_status']['full_name'], fontsize=fontsize)\n",
    "ax.set_ylabel(descriptions.loc['installment']['full_name'], fontsize=fontsize)\n",
    "fig.tight_layout()\n",
    "\n",
    "fig.savefig(f'{out_dir_figures}/07-Violin_of_Installments_By_Loan_Status.png')"
   ]
  },
  {
   "cell_type": "markdown",
   "metadata": {},
   "source": [
    "### Plotting Violin of Loan Amount By Loan Status"
   ]
  },
  {
   "cell_type": "code",
   "execution_count": null,
   "metadata": {},
   "outputs": [],
   "source": [
    "print(\"Plotting Violin_of_Loan_Amount_By_Loan_Status\")\n",
    "fig, ax = plt.subplots(figsize=[10, 10/1.62])\n",
    "\n",
    "sns.violinplot(x='loan_status', y='loan_amnt', hue='loan_status', data=loans_data, ax=ax)\n",
    "ax.set_title('Loan Amount by Loan Status', fontsize=fontsize)\n",
    "ax.set_xlabel(descriptions.loc['loan_status']['full_name'], fontsize=fontsize)\n",
    "ax.set_ylabel(descriptions.loc['loan_amnt']['full_name'], fontsize=fontsize)\n",
    "\n",
    "fig.tight_layout()\n",
    "\n",
    "fig.savefig(f'{out_dir_figures}/08-Violin_of_Loan_Amount_By_Loan_Status.png')"
   ]
  },
  {
   "cell_type": "markdown",
   "metadata": {},
   "source": [
    "### Plotting Distribution of Loan Grade By Loan Status"
   ]
  },
  {
   "cell_type": "code",
   "execution_count": null,
   "metadata": {},
   "outputs": [],
   "source": [
    "print(\"Plotting Distribution_of_Loan_Grade_By_Loan_Status\")\n",
    "fig, ax = plt.subplots(figsize=[10, 10/1.62])\n",
    "\n",
    "grade_order = sorted(loans_data['grade'].unique())\n",
    "\n",
    "sns.countplot(data=loans_data, x='grade', hue='loan_status', ax=ax, alpha=0.7, order=grade_order)\n",
    "ax.set_xlabel(descriptions.loc['grade']['full_name'], fontsize=fontsize)\n",
    "ax.set_ylabel('Counts', fontsize=fontsize)\n",
    "ax.set_title('Loan Grade Distribution by Loan Status', fontsize=fontsize)\n",
    "ax.set_title(\"Distribution of Loan Grade by Loan Status\", fontsize=fontsize)\n",
    "ax.legend(title=descriptions.loc['loan_status']['full_name'])\n",
    "fig.tight_layout()\n",
    "\n",
    "fig.savefig(f'{out_dir_figures}/09-Distribution_of_Loan_Grade_By_Loan_Status.png')"
   ]
  },
  {
   "cell_type": "markdown",
   "metadata": {},
   "source": [
    "### Plotting Distribution of Loan Sub Grade By Loan Status"
   ]
  },
  {
   "cell_type": "code",
   "execution_count": null,
   "metadata": {},
   "outputs": [],
   "source": [
    "print(\"Plotting Distribution_of_Loan_Sub_Grade_By_Loan_Status\")\n",
    "fig, ax = plt.subplots(figsize=[10, 10/1.62])\n",
    "\n",
    "sub_grade_order = sorted(loans_data['sub_grade'].unique())\n",
    "\n",
    "sns.countplot(data=loans_data, x='sub_grade', hue='loan_status', ax=ax, alpha=0.7, order=sub_grade_order)\n",
    "ax.set_xlabel(descriptions.loc['sub_grade']['full_name'], fontsize=fontsize)\n",
    "ax.set_ylabel('Counts', fontsize=fontsize)\n",
    "ax.set_title('Distribution of Loan Sub-Grade Distribution by Loan Status', fontsize=fontsize)\n",
    "ax.legend(title=descriptions.loc['loan_status']['full_name'])\n",
    "fig.tight_layout()\n",
    "\n",
    "fig.savefig(f'{out_dir_figures}/10-Distribution_of_Loan_Sub_Grade_By_Loan_Status.png')"
   ]
  },
  {
   "cell_type": "markdown",
   "metadata": {},
   "source": [
    "### Plotting Distribution of Home Ownership Status By Loan Status"
   ]
  },
  {
   "cell_type": "code",
   "execution_count": null,
   "metadata": {},
   "outputs": [],
   "source": [
    "print(\"Plotting Distribution_of_Home_Ownership_Status_By_Loan_Status\")\n",
    "fig, ax = plt.subplots(figsize=[10, 10/1.62])\n",
    "\n",
    "home_ownership_order = sorted(loans_data['home_ownership'].unique())\n",
    "\n",
    "sns.countplot(data=loans_data, x='home_ownership', hue='loan_status', ax=ax, order=home_ownership_order)\n",
    "ax.set_xlabel(descriptions.loc['home_ownership']['full_name'], fontsize=fontsize)\n",
    "ax.set_ylabel('Counts', fontsize=fontsize)\n",
    "ax.set_title('Loan Home Ownership Distribution by Loan Status', fontsize=fontsize)\n",
    "ax.legend(title=descriptions.loc['loan_status']['full_name'])\n",
    "fig.tight_layout()\n",
    "\n",
    "fig.savefig(f'{out_dir_figures}/11-Distribution_of_Home_Ownership_Status_By_Loan_Status.png')"
   ]
  },
  {
   "cell_type": "markdown",
   "metadata": {},
   "source": [
    "### Plotting Distribution of Income Verification Status By Loan Status"
   ]
  },
  {
   "cell_type": "code",
   "execution_count": null,
   "metadata": {},
   "outputs": [],
   "source": [
    "print(\"Plotting Distribution_of_Income_Verification_Status_By_Loan_Status\")\n",
    "fig, ax = plt.subplots(figsize=[10, 10/1.62])\n",
    "verification_status_order = sorted(loans_data['verification_status'].unique())\n",
    "sns.countplot(data=loans_data, x='verification_status', hue='loan_status', ax=ax, order=verification_status_order)\n",
    "ax.set_xlabel(descriptions.loc['verification_status']['full_name'], fontsize=fontsize)\n",
    "ax.set_ylabel('Counts', fontsize=fontsize)\n",
    "ax.set_title('Income Verification Status Distribution by Loan Status', fontsize=fontsize)\n",
    "ax.legend(title=descriptions.loc['loan_status']['full_name'])\n",
    "fig.tight_layout()\n",
    "\n",
    "fig.savefig(f'{out_dir_figures}/12-Distribution_of_Income_Verification_Status_By_Loan_Status.png')"
   ]
  },
  {
   "cell_type": "markdown",
   "metadata": {},
   "source": [
    "### Plotting Distribution of Term Length By Loan Status"
   ]
  },
  {
   "cell_type": "code",
   "execution_count": null,
   "metadata": {},
   "outputs": [],
   "source": [
    "print(\"Plotting Distribution_of_Term_Length_By_Loan_Status\")\n",
    "fig, ax = plt.subplots(figsize=[10, 10/1.62])\n",
    "\n",
    "term_months_order = sorted(loans_data['term_months'].unique())\n",
    "\n",
    "sns.countplot(data=loans_data, x='term_months', hue='loan_status', ax=ax, order=term_months_order)\n",
    "ax.set_xlabel(descriptions.loc['term_months']['full_name'], fontsize=fontsize)\n",
    "ax.set_ylabel('Counts', fontsize=fontsize)\n",
    "ax.set_title('Term Length Distribution by Loan Status', fontsize=fontsize)\n",
    "ax.legend(title=descriptions.loc['loan_status']['full_name'])\n",
    "fig.tight_layout()\n",
    "\n",
    "fig.savefig(f'{out_dir_figures}/13-Distribution_of_Term_Length_By_Loan_Status.png')"
   ]
  },
  {
   "cell_type": "markdown",
   "metadata": {},
   "source": [
    "### Plotting Distribution of Loan Purpose By Loan Status"
   ]
  },
  {
   "cell_type": "code",
   "execution_count": null,
   "metadata": {},
   "outputs": [],
   "source": [
    "print(\"Plotting Distribution_of_Loan_Purpose_By_Loan_Status\")\n",
    "fig, ax = plt.subplots(figsize=[10, 10/1.62])\n",
    "\n",
    "purpose_order = sorted(loans_data['purpose'].unique())\n",
    "\n",
    "sns.countplot(data=loans_data, x='purpose', hue='loan_status', ax=ax, order=purpose_order)\n",
    "ax.set_xlabel(descriptions.loc['purpose']['full_name'], fontsize=fontsize)\n",
    "ax.set_ylabel('Counts', fontsize=fontsize)\n",
    "ax.set_title('Purpose Distribution by Loan Status', fontsize=fontsize)\n",
    "ax.legend(title=descriptions.loc['loan_status']['full_name'])\n",
    "ax.tick_params(axis='x', rotation=90)\n",
    "fig.tight_layout()\n",
    "\n",
    "fig.savefig(f'{out_dir_figures}/14-Distribution_of_Loan_Purpose_By_Loan_Status.png')\n"
   ]
  },
  {
   "cell_type": "markdown",
   "metadata": {},
   "source": [
    "### Plotting Distribution of Issue Date By Loan Status"
   ]
  },
  {
   "cell_type": "code",
   "execution_count": null,
   "metadata": {},
   "outputs": [],
   "source": [
    "print(\"Plotting Distribution_of_Issue_Date_By_Loan_Status\")\n",
    "fig, ax = plt.subplots(figsize = [10, 10/1.62])\n",
    "\n",
    "for loan_status in loan_status_values:\n",
    "    mask = loans_data['loan_status'] == loan_status\n",
    "    sns.histplot(loans_data[mask]['issue_d'], label=loan_status, ax=ax, element=\"step\", kde=False, alpha=0.5, edgecolor='b')\n",
    "ax.set_xlabel(descriptions.loc['issue_d_unix']['full_name'], fontsize=fontsize)\n",
    "ax.set_ylabel('Counts', fontsize=fontsize)\n",
    "ax.set_title(\"Distribution of Issue Date by Loan Status\", fontsize=fontsize)\n",
    "ax.legend()\n",
    "fig.tight_layout()\n",
    "\n",
    "fig.savefig(f'{out_dir_figures}/15-Distribution_of_Issue_Date_By_Loan_Status.png')"
   ]
  },
  {
   "cell_type": "markdown",
   "metadata": {},
   "source": [
    "### Plotting Distribution of Debt To Income By Loan Status"
   ]
  },
  {
   "cell_type": "code",
   "execution_count": null,
   "metadata": {},
   "outputs": [],
   "source": [
    "print(\"Plotting Distribution_of_Debt_To_Income_By_Loan_Status\")\n",
    "fig, ax = plt.subplots(figsize = [10, 10/1.62])\n",
    "\n",
    "best_bw_dti = bestbandwidth(loans_data['dti'])\n",
    "nBins_dti = int((loans_data['dti'].max() - loans_data['dti'].min())/best_bw_dti)\n",
    "bins_dti = np.linspace(loans_data['dti'].min(), loans_data['dti'].max(), nBins_dti)\n",
    "for loan_status in loan_status_values:\n",
    "    mask = loans_data['loan_status'] == loan_status\n",
    "    sns.histplot(loans_data[mask]['dti'], label=loan_status, ax=ax, element=\"step\", bins=bins_dti, kde=False, alpha=0.5, edgecolor='b')\n",
    "ax.set_xlabel(descriptions.loc['dti']['full_name'], fontsize=fontsize)\n",
    "ax.set_ylabel('Counts', fontsize=fontsize)\n",
    "ax.set_title(\"Distribution of Debt To Income Ratio by Loan Status\", fontsize=fontsize)\n",
    "ax.legend()\n",
    "fig.tight_layout()\n",
    "\n",
    "fig.savefig(f'{out_dir_figures}/16-Distribution_of_Debt_To_Income_By_Loan_Status.png')"
   ]
  },
  {
   "cell_type": "markdown",
   "metadata": {},
   "source": [
    "### Plotting Distribution of Number Of Open Accounts By Loan Status"
   ]
  },
  {
   "cell_type": "code",
   "execution_count": null,
   "metadata": {},
   "outputs": [],
   "source": [
    "print(\"Plotting Distribution_of_Number_Of_Open_Accounts_By_Loan_Status\")\n",
    "fig, ax = plt.subplots(figsize = [10, 10/1.62])\n",
    "\n",
    "best_bw_open_acc = bestbandwidth(loans_data['open_acc'])\n",
    "nBins_open_acc = int((loans_data['open_acc'].max() - loans_data['open_acc'].min())/best_bw_open_acc)\n",
    "bins_open_acc = np.linspace(loans_data['open_acc'].min(), loans_data['open_acc'].max(), nBins_open_acc)\n",
    "for loan_status in loan_status_values:\n",
    "    mask = loans_data['loan_status'] == loan_status\n",
    "    sns.histplot(loans_data[mask]['open_acc'], label=loan_status, ax=ax, element=\"step\", bins=bins_open_acc, kde=False, alpha=0.5, edgecolor='b')\n",
    "ax.set_xlabel(descriptions.loc['open_acc']['full_name'], fontsize=fontsize)\n",
    "ax.set_ylabel('Counts', fontsize=fontsize)\n",
    "ax.set_title(\"Distribution of Number of Open Accounts by Loan Status\", fontsize=fontsize)\n",
    "ax.legend()\n",
    "fig.tight_layout()\n",
    "\n",
    "fig.savefig(f'{out_dir_figures}/17-Distribution_of_Number_Of_Open_Accounts_By_Loan_Status.png')"
   ]
  },
  {
   "cell_type": "markdown",
   "metadata": {},
   "source": [
    "### Plotting Distribution of Revolving Line Utilization Rate By Loan Status"
   ]
  },
  {
   "cell_type": "code",
   "execution_count": null,
   "metadata": {},
   "outputs": [],
   "source": [
    "print(\"Plotting Distribution_of_Revolving_Line_Utilization_Rate_By_Loan_Status\")\n",
    "fig, ax = plt.subplots(figsize = [10, 10/1.62])\n",
    "\n",
    "best_bw_revol_util = bestbandwidth(loans_data['revol_util'])\n",
    "nBins_revol_util = int((loans_data['revol_util'].max() - loans_data['revol_util'].min())/best_bw_revol_util)\n",
    "bins_revol_util = np.linspace(loans_data['revol_util'].min(), loans_data['revol_util'].max(), nBins_revol_util)\n",
    "for loan_status in loan_status_values:\n",
    "    mask = loans_data['loan_status'] == loan_status\n",
    "    sns.histplot(loans_data[mask]['revol_util'], label=loan_status, ax=ax, element=\"step\",bins=bins_revol_util, kde=False, alpha=0.5, edgecolor='b')\n",
    "ax.set_xlabel(descriptions.loc['revol_util']['full_name'], fontsize=fontsize)\n",
    "ax.set_ylabel('Counts', fontsize=fontsize)\n",
    "ax.set_title(\"Distribution of Revolving Line Utilization Rate by Loan Status\", fontsize=fontsize)\n",
    "ax.legend()\n",
    "fig.tight_layout()\n",
    "\n",
    "fig.savefig(f'{out_dir_figures}/18-Distribution_of_Revolving_Line_Utilization_Rate_By_Loan_Status.png')"
   ]
  },
  {
   "cell_type": "markdown",
   "metadata": {},
   "source": [
    "### Plotting Distribution of Revolving Balance By Loan Status"
   ]
  },
  {
   "cell_type": "code",
   "execution_count": null,
   "metadata": {},
   "outputs": [],
   "source": [
    "print(\"Plotting Distribution_of_Revolving_Balance_By_Loan_Status\")\n",
    "fig, ax = plt.subplots(figsize = [10, 10/1.62])\n",
    "\n",
    "best_bw_revol_bal = bestbandwidth(loans_data['revol_bal'])\n",
    "nBins_revol_bal = int((loans_data['revol_bal'].max() - loans_data['revol_bal'].min())/best_bw_revol_bal)\n",
    "bins_revol_bal = np.linspace(loans_data['revol_bal'].min(), loans_data['revol_bal'].max(), nBins_revol_bal)\n",
    "for loan_status in loan_status_values:\n",
    "    mask = loans_data['loan_status'] == loan_status\n",
    "    sns.histplot(loans_data[mask]['revol_bal'], label=loan_status, ax=ax, element=\"step\", bins=bins_revol_bal, kde=False, alpha=0.5, edgecolor='b')\n",
    "ax.set_xlabel(descriptions.loc['revol_bal']['full_name'], fontsize=fontsize)\n",
    "ax.set_ylabel('Counts', fontsize=fontsize)\n",
    "ax.set_title(\"Distribution of Revolving Balance by Loan Status\", fontsize=fontsize)\n",
    "ax.legend()\n",
    "fig.tight_layout()\n",
    "\n",
    "fig.savefig(f'{out_dir_figures}/19-Distribution_of_Revolving_Balance_By_Loan_Status.png')\n"
   ]
  },
  {
   "cell_type": "markdown",
   "metadata": {},
   "source": [
    "### Plotting Distribution of Number of Public Records By Loan Status"
   ]
  },
  {
   "cell_type": "code",
   "execution_count": null,
   "metadata": {},
   "outputs": [],
   "source": [
    "print(\"Plotting Distribution_of_Number_of_Public_Records_By_Loan_Status\")\n",
    "pub_rec_order = sorted(loans_data['pub_rec'].unique())\n",
    "fig, ax = plt.subplots(figsize=[10, 10/1.62])\n",
    "sns.countplot(data=loans_data, x='pub_rec', hue='loan_status', ax=ax, order=pub_rec_order)\n",
    "ax.set_xlabel(descriptions.loc['pub_rec']['full_name'], fontsize=fontsize)\n",
    "ax.set_ylabel('Counts', fontsize=fontsize)\n",
    "ax.set_title('Loaner Number of Public Records Distribution by Loan Status', fontsize=fontsize)\n",
    "ax.legend(title=descriptions.loc['loan_status']['full_name'])\n",
    "fig.tight_layout()\n",
    "\n",
    "fig.savefig(f'{out_dir_figures}/20-Distribution_of_Number_of_Public_Records_By_Loan_Status.png')\n"
   ]
  },
  {
   "cell_type": "markdown",
   "metadata": {},
   "source": [
    "### Plotting Distribution of Initial Listing Status By Loan Status"
   ]
  },
  {
   "cell_type": "code",
   "execution_count": null,
   "metadata": {},
   "outputs": [],
   "source": [
    "print(\"Plotting Distribution_of_Initial_Listing_Status_By_Loan_Status\")\n",
    "initial_list_status_order = sorted(loans_data['initial_list_status'].unique())\n",
    "\n",
    "fig, ax = plt.subplots(figsize=[10, 10/1.62])\n",
    "sns.countplot(data=loans_data, x='initial_list_status', hue='loan_status', ax=ax, order=initial_list_status_order)\n",
    "ax.set_xlabel(descriptions.loc['initial_list_status']['full_name'], fontsize=fontsize)\n",
    "ax.set_ylabel('Counts', fontsize=fontsize)\n",
    "ax.set_title('Loaner Initial Listing Status Distribution by Loan Status', fontsize=fontsize)\n",
    "ax.legend(title=descriptions.loc['loan_status']['full_name'])\n",
    "fig.tight_layout()\n",
    "\n",
    "fig.savefig(f'{out_dir_figures}/21-Distribution_of_Initial_Listing_Status_By_Loan_Status.png')\n"
   ]
  },
  {
   "cell_type": "markdown",
   "metadata": {},
   "source": [
    "### Plotting Distribution of Application Type By Loan Status"
   ]
  },
  {
   "cell_type": "code",
   "execution_count": null,
   "metadata": {},
   "outputs": [],
   "source": [
    "print(\"Plotting Distribution_of_Application_Type_By_Loan_Status\")\n",
    "application_type_order = sorted(loans_data['application_type'].unique())\n",
    "fig, ax = plt.subplots(figsize=[10, 10/1.62])\n",
    "sns.countplot(data=loans_data, x='application_type', hue='loan_status', ax=ax, order=application_type_order)\n",
    "ax.set_xlabel(descriptions.loc['application_type']['full_name'], fontsize=fontsize)\n",
    "ax.set_ylabel('Counts', fontsize=fontsize)\n",
    "ax.set_title('Loan Application Type Distribution by Loan Status', fontsize=fontsize)\n",
    "ax.legend(title=descriptions.loc['loan_status']['full_name'])\n",
    "fig.tight_layout()\n",
    "\n",
    "fig.savefig(f'{out_dir_figures}/22-Distribution_of_Application_Type_By_Loan_Status.png')"
   ]
  },
  {
   "cell_type": "markdown",
   "metadata": {},
   "source": [
    "### Plotting Distribution of Number of Public Record Bankruptcies By Loan Status"
   ]
  },
  {
   "cell_type": "code",
   "execution_count": null,
   "metadata": {},
   "outputs": [],
   "source": [
    "print(\"Plotting Distribution_of_Number_of_Public_Record_Bankruptcies_By_Loan_Status\")\n",
    "pub_rec_bankruptcies_order = sorted(loans_data['pub_rec_bankruptcies'].unique())\n",
    "fig, ax = plt.subplots(figsize=[10, 10/1.62])\n",
    "\n",
    "sns.countplot(data=loans_data, x='pub_rec_bankruptcies', hue='loan_status', ax=ax, order=pub_rec_bankruptcies_order)\n",
    "ax.set_xlabel(descriptions.loc['pub_rec_bankruptcies']['full_name'], fontsize=fontsize)\n",
    "ax.set_ylabel('Counts', fontsize=fontsize)\n",
    "ax.set_title('Loaner Number of Public Record Bankruptcies by Loan Status', fontsize=fontsize)\n",
    "ax.legend(title=descriptions.loc['loan_status']['full_name'])\n",
    "fig.tight_layout()\n",
    "\n",
    "fig.savefig(f'{out_dir_figures}/23-Distribution_of_Number_of_Public_Record_Bankruptcies_By_Loan_Status.png')\n"
   ]
  },
  {
   "cell_type": "markdown",
   "metadata": {},
   "source": [
    "### Plotting Correlation_Between_Loan_Status_And_Numerical_Features"
   ]
  },
  {
   "cell_type": "code",
   "execution_count": null,
   "metadata": {},
   "outputs": [],
   "source": [
    "print(\"Plotting Correlation_Between_Loan_Status_And_Numerical_Features\")\n",
    "\n",
    "loans_data['loan_status_num'] = loans_data['loan_status'].apply(lambda x: 0 if x == 'Charged Off' else 1)\n",
    "\n",
    "num_cols = ['mort_acc', 'annual_inc', 'loan_status_num', 'total_acc', 'revol_bal', 'pub_rec_bankruptcies', 'pub_rec', 'open_acc', 'installment', 'loan_amnt', 'dti', 'revol_util', 'int_rate']\n",
    "\n",
    "correlation = loans_data[num_cols].corr()['loan_status_num'].drop('loan_status_num').sort_values().iloc[::-1]\n",
    "\n",
    "full_names_map = {col: descriptions.loc[col]['full_name'] for col in num_cols if col in descriptions.index}\n",
    "\n",
    "full_names_map['loan_status_num'] = 'Numerical Loan Status'  # Replace with the actual full name\n",
    "\n",
    "correlation.index = [full_names_map.get(col, col) for col in correlation.index]\n",
    "\n",
    "fig, ax = plt.subplots(figsize=[10, 10/1.62])\n",
    "sns.barplot(x=correlation.values, y=correlation.index, edgecolor=\"black\", ax=ax)\n",
    "\n",
    "ax.set_title(\"Correlation between Loan status and Numeric Features\", fontsize=fontsize)\n",
    "ax.set_xlabel('Correlation')\n",
    "ax.set_ylabel('Numerical Features')\n",
    "\n",
    "fig.tight_layout()\n",
    "\n",
    "fig.savefig(f'{out_dir_figures}/24-Correlation_Between_Loan_Status_And_Numerical_Features.png')\n"
   ]
  },
  {
   "cell_type": "markdown",
   "metadata": {},
   "source": [
    "## Automated Exploratory Data Analysis Report"
   ]
  },
  {
   "cell_type": "code",
   "execution_count": null,
   "metadata": {},
   "outputs": [],
   "source": [
    "print(\"Creating Automated Exploratory Data Analysis Report, will only show after github push.\")\n",
    "\n",
    "git_link = git_repo.replace('github.com','raw.githubusercontent.com')\n",
    "\n",
    "markdown_string = \"\"\n",
    "\n",
    "title = \"# Automated Exploratory Data Analysis Report\"\n",
    "\n",
    "author = \"Andre Guimaraes\"\n",
    "\n",
    "datetime_string = datetime.datetime.now().strftime(\"%Y-%m-%d %H:%M:%S\")\n",
    "\n",
    "markdown_string += f'{title}\\nRun Tag: {tag}\\nAuthor: {author}\\n{datetime_string}\\n'\n",
    "\n",
    "tables = sorted([f for f in os.listdir(f'{root_path}/outputs/{tag}/stats/') if f.endswith('.csv')])\n",
    "\n",
    "for table in tables:\n",
    "    df = pd.read_csv(f'{root_path}/outputs/{tag}/stats/{table}', index_col=0)\n",
    "    markdown_string += f\"## {table[:-4].replace('_',' ')}\\n{df.to_markdown()}\\n\"\n",
    "\n",
    "images = sorted([f for f in os.listdir(f'{root_path}/outputs/{tag}/figures/') if f.endswith('.png')])\n",
    "\n",
    "for image in images:\n",
    "    subtitle = f\"## {image.split('-',1)[-1][:-4].replace('_',' ')}\"\n",
    "    \n",
    "    markdown_string += f\"{subtitle}\\n![Alt Text]({git_link}/main/outputs/{tag}/figures/{image})\\n\"\n",
    "    \n",
    "with open(f'{root_path}/outputs/{tag}/reports/01-Exploratory_Data_Analysis_Report.md', 'w') as f:\n",
    "    f.write(markdown_string)\n",
    "\n",
    "print(\"Done!\")"
   ]
  }
 ],
 "metadata": {
  "kernelspec": {
   "display_name": "LendingClub",
   "language": "python",
   "name": "lendingclub"
  },
  "language_info": {
   "codemirror_mode": {
    "name": "ipython",
    "version": 3
   },
   "file_extension": ".py",
   "mimetype": "text/x-python",
   "name": "python",
   "nbconvert_exporter": "python",
   "pygments_lexer": "ipython3",
   "version": "3.11.5"
  }
 },
 "nbformat": 4,
 "nbformat_minor": 4
}
